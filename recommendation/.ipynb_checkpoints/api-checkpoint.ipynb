{
 "cells": [
  {
   "cell_type": "code",
   "execution_count": 1,
   "id": "b417cc0b",
   "metadata": {},
   "outputs": [],
   "source": [
    "from flask import *\n",
    "from flask import request, jsonify\n",
    "from flask_cors import CORS\n",
    "import json, time \n",
    "import pickle\n"
   ]
  },
  {
   "cell_type": "code",
   "execution_count": 2,
   "id": "55af83f3",
   "metadata": {},
   "outputs": [
    {
     "data": {
      "text/plain": [
       "<flask_cors.extension.CORS at 0x19aa7e38920>"
      ]
     },
     "execution_count": 2,
     "metadata": {},
     "output_type": "execute_result"
    }
   ],
   "source": [
    "app = Flask(__name__)\n",
    "CORS(app) "
   ]
  },
  {
   "cell_type": "code",
   "execution_count": null,
   "id": "70b26e7f-ea49-48a8-9da3-d56528719328",
   "metadata": {},
   "outputs": [],
   "source": []
  },
  {
   "cell_type": "code",
   "execution_count": 3,
   "id": "a1361ecd",
   "metadata": {},
   "outputs": [],
   "source": [
    "@app.route('/addedNewSong',methods=['Post'])\n",
    "def addedNewSong():\n",
    "    import pandas as pd\n",
    "    from pymongo import MongoClient\n",
    "\n",
    "    # Connect to MongoDB\n",
    "    client = MongoClient(\"localhost:27017\")\n",
    "    db = client[\"Music\"]\n",
    "    collection = db[\"songs\"]\n",
    "    \n",
    "    query = {}  # This example retrieves all documents; adjust the query as needed\n",
    "    \n",
    "    data_from_mongo = list(collection.find(query))\n",
    "    df = pd.DataFrame(data_from_mongo)\n",
    "    \n",
    "    df.to_csv(\"your_dataset.csv\", index=False)\n",
    "\n",
    "   \n",
    "\n",
    "    df = pd.read_csv('your_dataset.csv')\n",
    "\n",
    "    df['lyrics'] = df['lyrics'].str.lower().replace(r'[a-zA-Z0-9]','').replace(r'\\\\n',' ',regex=True)\n",
    "\n",
    "    df['lyrics'][0]\n",
    "\n",
    "    import nltk\n",
    "    from nltk.stem.porter import PorterStemmer\n",
    "\n",
    "    nltk.download('punkt', quiet=True)\n",
    "\n",
    "    def tokenization(txt):\n",
    "    \n",
    "        tokens = nltk.word_tokenize(txt)\n",
    "        ps = PorterStemmer()  # Create an instance of the PorterStemmer\n",
    "        stemming = [ps.stem(w) for w in tokens] \n",
    "\n",
    "        return \" \".join(stemming)\n",
    "\n",
    "\n",
    "    df['lyrics'] = df['lyrics'].apply(lambda x: tokenization(x))\n",
    "\n",
    "    df['lyrics']\n",
    "\n",
    "    from sklearn.feature_extraction.text import TfidfVectorizer\n",
    "    from sklearn.metrics.pairwise import cosine_similarity\n",
    "\n",
    "    tfid = TfidfVectorizer(stop_words='english')\n",
    "    matrix = tfid.fit_transform(df['lyrics'])\n",
    "\n",
    "    matrix.shape\n",
    "\n",
    "\n",
    "    similarity = cosine_similarity(matrix)\n",
    "    import pickle\n",
    "\n",
    "    # Your data to be saved\n",
    "    data_to_save = similarity\n",
    "    \n",
    "    \n",
    "    # Specify the file path where you want to save the pickle file\n",
    "    file_path = 'sim.pkl'\n",
    "    df_path = 'df.pkl'\n",
    "    \n",
    "    # Open the file in binary write mode ('wb') and use the pickle.dump() method to save the data\n",
    "    with open(file_path, 'wb') as file:\n",
    "        pickle.dump(data_to_save, file)\n",
    "    print(f'Data saved to {file_path}')\n",
    "\n",
    "    with open(df_path, 'wb') as file:\n",
    "      pickle.dump(df, file)\n",
    "    print(f'Data saved to {df_path}')\n",
    "   \n",
    "    \n",
    "    data_set ={'Page': 'Home','Message':'loaded successfully'}\n",
    "    json_dump = json.dumps(data_set)\n",
    "    return json_dump"
   ]
  },
  {
   "cell_type": "code",
   "execution_count": 4,
   "id": "6f1f0011",
   "metadata": {},
   "outputs": [],
   "source": [
    "@app.route('/user/',methods=['GET'])\n",
    "def request_page():\n",
    "    user_query = str(request.args.get('user'))\n",
    "    \n",
    "    data_set ={'Page': 'Home','Message':'Successfully loaded the ${user_query}','Timestamp':time.time()}\n",
    "    json_dump = json.dumps(data_set)\n",
    "    return json_dump"
   ]
  },
  {
   "cell_type": "code",
   "execution_count": 5,
   "id": "c95ea025",
   "metadata": {},
   "outputs": [],
   "source": [
    "\n",
    "\n",
    "# Load data from pickle files\n",
    "df = pickle.load(open('df.pkl', 'rb'))\n",
    "similarity = pickle.load(open('sim.pkl', 'rb'))\n",
    "\n",
    "def recommendation(title, threshold=0.8):\n",
    "    if df.empty:\n",
    "        # Handle the case when the DataFrame is empty\n",
    "        return jsonify({'Page': 'recommendation', 'Message': 'DataFrame is empty', 'Timestamp': time.time()})\n",
    "    \n",
    "    if title not in df['title'].values:\n",
    "        # Handle the case when the song is not in the DataFrame\n",
    "        return jsonify({'Page': 'recommendation', 'Message': f'Song \"{title}\" not found in the DataFrame', 'Timestamp': time.time()})\n",
    "\n",
    "    idx = df[df['title'] == title].index[0]\n",
    "    distances = sorted(list(enumerate(similarity[idx])), reverse=True, key=lambda x: x[1])\n",
    "\n",
    "    similar_songs = [(df.iloc[i[0]].title) for i in distances[0:6] if i[1] <= threshold]\n",
    "    similar_ids = [(df['_id'][i[0]]) for i in distances[0:6] if i[1] <= threshold]\n",
    "\n",
    "    data_set = {'Page': 'recommendation', 'Message': similar_songs, 'id' : similar_ids }\n",
    "    json_dump = json.dumps(data_set)\n",
    "    return json_dump;\n",
    "        "
   ]
  },
  {
   "cell_type": "code",
   "execution_count": 6,
   "id": "497bd98f-c597-4d21-9398-879fc156c132",
   "metadata": {},
   "outputs": [],
   "source": [
    "\n",
    "@app.route('/submit', methods=['POST'])\n",
    "def submit_form():\n",
    "    try:\n",
    "        # Assuming the request data is in JSON format\n",
    "        data = request.get_json()\n",
    "\n",
    "        # Perform any server-side processing here\n",
    "        result = recommendation(data)\n",
    "\n",
    "        # Return a response to the client\n",
    "        \n",
    "        return (result),201\n",
    "    except Exception as e:\n",
    "        return jsonify({'error': str(e)}), 500"
   ]
  },
  {
   "cell_type": "code",
   "execution_count": null,
   "id": "c004d274",
   "metadata": {},
   "outputs": [
    {
     "name": "stdout",
     "output_type": "stream",
     "text": [
      " * Serving Flask app '__main__'\n",
      " * Debug mode: off\n"
     ]
    },
    {
     "name": "stderr",
     "output_type": "stream",
     "text": [
      "WARNING: This is a development server. Do not use it in a production deployment. Use a production WSGI server instead.\n",
      " * Running on http://127.0.0.1:7777\n",
      "Press CTRL+C to quit\n",
      "127.0.0.1 - - [24/Jan/2024 12:23:07] \"OPTIONS /addedNewSong HTTP/1.1\" 200 -\n",
      "127.0.0.1 - - [24/Jan/2024 12:23:09] \"POST /addedNewSong HTTP/1.1\" 200 -\n"
     ]
    },
    {
     "name": "stdout",
     "output_type": "stream",
     "text": [
      "Data saved to sim.pkl\n",
      "Data saved to sim.pkl\n"
     ]
    }
   ],
   "source": [
    "if __name__ == '__main__':\n",
    "    app.run(port=7777)\n"
   ]
  },
  {
   "cell_type": "code",
   "execution_count": null,
   "id": "58c43aac-622d-4d65-8c36-4a8102806aaa",
   "metadata": {},
   "outputs": [],
   "source": []
  },
  {
   "cell_type": "code",
   "execution_count": null,
   "id": "ccc777bb-7053-4314-bed7-06bcc9e72c4e",
   "metadata": {},
   "outputs": [],
   "source": []
  },
  {
   "cell_type": "code",
   "execution_count": null,
   "id": "19e3a22f-1789-471b-9652-914f2c646142",
   "metadata": {},
   "outputs": [],
   "source": []
  }
 ],
 "metadata": {
  "kernelspec": {
   "display_name": "Python 3 (ipykernel)",
   "language": "python",
   "name": "python3"
  },
  "language_info": {
   "codemirror_mode": {
    "name": "ipython",
    "version": 3
   },
   "file_extension": ".py",
   "mimetype": "text/x-python",
   "name": "python",
   "nbconvert_exporter": "python",
   "pygments_lexer": "ipython3",
   "version": "3.12.1"
  }
 },
 "nbformat": 4,
 "nbformat_minor": 5
}
